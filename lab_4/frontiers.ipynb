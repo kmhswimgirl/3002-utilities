{
 "cells": [
  {
   "cell_type": "markdown",
   "id": "eaa6c799",
   "metadata": {},
   "source": [
    "# Frontier Detection Visualization\n",
    "\n",
    "This notebook visualizes the detected frontiers in a 10x10 occupancy grid map."
   ]
  },
  {
   "cell_type": "code",
   "execution_count": 2,
   "id": "6bd19766",
   "metadata": {},
   "outputs": [],
   "source": [
    "# Map and frontier detection logic\n",
    "import numpy as np\n",
    "import matplotlib.pyplot as plt\n",
    "import matplotlib.patches as mpatches\n",
    "\n",
    "class Map:\n",
    "    def __init__(self):\n",
    "        self.data = [\n",
    "             -1,   0,  -1,  -1,  -1, 100,  -1,   0,  -1,  -1,\n",
    "             -1,   0,  -1,  -1,   0, 100,   0,   0,  -1,  -1,\n",
    "             -1,   0,  -1,  -1,   0, 100,   0,   0,  -1,  -1,\n",
    "             -1,   0,  -1,   0,   0, 100,   0,   0,  -1,  -1,\n",
    "              0,   0,  -1,   0,   0,   0,   0,   0,  -1,  -1,\n",
    "            100,   0,   0,   0,   0,   0,   0,   0,   0,  -1,\n",
    "            100,   0,   0,   0,   0,   0,   0,   0,   0,  -1,\n",
    "            100,   0,   0,   0,   0,   0,   0, 100,   0, 100,\n",
    "            100,   0,   0, 100, 100,   0,   0, 100,   0, 100,\n",
    "            100, 100, 100, 100, 100, 100, 100, 100, 100, 100\n",
    "        ]\n",
    "        self.height = 10\n",
    "        self.width = 10\n",
    "\n",
    "def index_to_grid(index: int, width: int):\n",
    "    row = index // width\n",
    "    col = index % width\n",
    "    return (row, col)\n",
    "\n",
    "def neighbors_8(index: int, width: int, height: int):\n",
    "    row, col = index_to_grid(index, width)\n",
    "    neighbors = []\n",
    "    for dr in [-1, 0, 1]:\n",
    "        for dc in [-1, 0, 1]:\n",
    "            if dr == 0 and dc == 0:\n",
    "                continue\n",
    "            nr, nc = row + dr, col + dc\n",
    "            if 0 <= nr < height and 0 <= nc < width:\n",
    "                neighbors.append(nr * width + nc)\n",
    "    return neighbors"
   ]
  },
  {
   "cell_type": "code",
   "execution_count": 3,
   "id": "512b0dc6",
   "metadata": {},
   "outputs": [
    {
     "name": "stdout",
     "output_type": "stream",
     "text": [
      "Detected frontier indices: [1, 7, 11, 14, 16, 17, 21, 24, 27, 31, 33, 34, 37, 40, 41, 43, 47, 51, 52, 53, 57, 58, 68, 78]\n"
     ]
    }
   ],
   "source": [
    "def get_frontier_cells(map_obj):\n",
    "    frontier_cells = []\n",
    "    for index, cell in enumerate(map_obj.data):\n",
    "        if cell == 0:\n",
    "            next_to_cells = neighbors_8(index, map_obj.width, map_obj.height)\n",
    "            for item in next_to_cells:\n",
    "                if map_obj.data[item] == -1:\n",
    "                    frontier_cells.append(index)\n",
    "                    break\n",
    "    return frontier_cells\n",
    "\n",
    "m = Map()\n",
    "frontiers = get_frontier_cells(m)\n",
    "print('Detected frontier indices:', sorted(frontiers))"
   ]
  },
  {
   "cell_type": "code",
   "execution_count": null,
   "id": "df6270ca",
   "metadata": {
    "slideshow": {
     "slide_type": "slide"
    }
   },
   "outputs": [
    {
     "data": {
      "image/png": "[encoded data removed]",
      "text/plain": [
       "<Figure size 700x700 with 1 Axes>"
      ]
     },
     "metadata": {},
     "output_type": "display_data"
    }
   ],
   "source": [
    "# thnaks for the visualizer copilot!\n",
    "# Prepare RGB image for the map\n",
    "map_grid = np.array(m.data).reshape((m.height, m.width))\n",
    "rgb_img = np.ones((m.height, m.width, 3))  # start with white\n",
    "\n",
    "# Color code: unknown (-1): white, obstacle (100): black, free (0): gray\n",
    "for r in range(m.height):\n",
    "    for c in range(m.width):\n",
    "        val = map_grid[r, c]\n",
    "        if val == -1:\n",
    "            rgb_img[r, c] = [1, 1, 1]      # white\n",
    "        elif val == 100:\n",
    "            rgb_img[r, c] = [0, 0, 0]      # black\n",
    "        elif val == 0:\n",
    "            rgb_img[r, c] = [0.7, 0.7, 0.7]  # gray\n",
    "\n",
    "# Overlay frontiers as blue\n",
    "for idx in frontiers:\n",
    "    r, c = index_to_grid(idx, m.width)\n",
    "    rgb_img[r, c] = [0.2, 0.4, 1.0]  # vivid blue\n",
    "\n",
    "plt.figure(figsize=(7,7))\n",
    "plt.imshow(rgb_img, interpolation='none')\n",
    "plt.title('Frontier Detection Visualization')\n",
    "\n",
    "# Create custom legend\n",
    "unknown_patch = mpatches.Patch(color='white', label='Unknown (-1)')\n",
    "free_patch = mpatches.Patch(color='#b3b3b3', label='Free (0), not frontier')\n",
    "obstacle_patch = mpatches.Patch(color='black', label='Obstacle (100)')\n",
    "frontier_patch = mpatches.Patch(color='#3366ff', label='Frontier (blue)')\n",
    "plt.legend(handles=[unknown_patch, free_patch, obstacle_patch, frontier_patch],\n",
    "           loc='upper right', bbox_to_anchor=(1.35, 1))\n",
    "\n",
    "plt.axis('off')\n",
    "plt.show()"
   ]
  }
 ],
 "metadata": {
  "kernelspec": {
   "display_name": ".venv",
   "language": "python",
   "name": "python3"
  },
  "language_info": {
   "codemirror_mode": {
    "name": "ipython",
    "version": 3
   },
   "file_extension": ".py",
   "mimetype": "text/x-python",
   "name": "python",
   "nbconvert_exporter": "python",
   "pygments_lexer": "ipython3",
   "version": "3.12.3"
  }
 },
 "nbformat": 4,
 "nbformat_minor": 5
}
