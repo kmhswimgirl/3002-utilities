{
 "cells": [
  {
   "cell_type": "markdown",
   "id": "eaa6c799",
   "metadata": {},
   "source": [
    "# Frontier Detection Visualization\n",
    "\n",
    "This notebook visualizes the detected frontiers in a 10x10 occupancy grid map."
   ]
  },
  {
   "cell_type": "code",
   "execution_count": null,
   "id": "6bd19766",
   "metadata": {},
   "outputs": [],
   "source": [
    "# Map and frontier detection logic\n",
    "import numpy as np\n",
    "import matplotlib.pyplot as plt\n",
    "import matplotlib.patches as mpatches\n",
    "\n",
    "class Map:\n",
    "    def __init__(self):\n",
    "        self.data = [\n",
    "             -1,   0,  -1,  -1,  -1, 100,  -1,   0,  -1,  -1,\n",
    "             -1,   0,  -1,  -1,   0, 100,   0,   0,  -1,  -1,\n",
    "             -1,   0,  -1,  -1,   0, 100,   0,   0,  -1,  -1,\n",
    "             -1,   0,  -1,   0,   0, 100,   0,   0,  -1,  -1,\n",
    "              0,   0,  -1,   0,   0,   0,   0,   0,  -1,  -1,\n",
    "            100,   0,   0,   0,   0,   0,   0,   0,   0,  -1,\n",
    "            100,   0,   0,   0,   0,   0,   0,   0,   0,  -1,\n",
    "            100,   0,   0,   0,   0,   0,   0, 100,   0, 100,\n",
    "            100,   0,   0, 100, 100,   0,   0, 100,   0, 100,\n",
    "            100, 100, 100, 100, 100, 100, 100, 100, 100, 100\n",
    "        ]\n",
    "        self.height = 10\n",
    "        self.width = 10\n",
    "\n",
    "def index_to_grid(index: int, width: int):\n",
    "    row = index // width\n",
    "    col = index % width\n",
    "    return (row, col)\n",
    "\n",
    "def neighbors_8(index: int, width: int, height: int):\n",
    "    row, col = index_to_grid(index, width)\n",
    "    neighbors = []\n",
    "    for dr in [-1, 0, 1]:\n",
    "        for dc in [-1, 0, 1]:\n",
    "            if dr == 0 and dc == 0:\n",
    "                continue\n",
    "            nr, nc = row + dr, col + dc\n",
    "            if 0 <= nr < height and 0 <= nc < width:\n",
    "                neighbors.append(nr * width + nc)\n",
    "    return neighbors"
   ]
  },
  {
   "cell_type": "code",
   "execution_count": null,
   "id": "512b0dc6",
   "metadata": {},
   "outputs": [
    {
     "name": "stdout",
     "output_type": "stream",
     "text": [
      "Detected frontier indices: [1, 7, 11, 14, 16, 17, 21, 24, 27, 31, 33, 34, 37, 40, 41, 43, 47, 51, 52, 53, 57, 58, 68, 78]\n"
     ]
    }
   ],
   "source": [
    "def get_frontier_cells(map_obj):\n",
    "    frontier_cells = []\n",
    "    for index, cell in enumerate(map_obj.data):\n",
    "        if cell == 0:\n",
    "            next_to_cells = neighbors_8(index, map_obj.width, map_obj.height)\n",
    "            for item in next_to_cells:\n",
    "                if map_obj.data[item] == -1:\n",
    "                    frontier_cells.append(index)\n",
    "                    break\n",
    "    return frontier_cells\n",
    "\n",
    "m = Map()\n",
    "frontiers = get_frontier_cells(m)\n",
    "print('Detected frontier indices:', sorted(frontiers))"
   ]
  },
  {
   "cell_type": "code",
   "execution_count": null,
   "id": "df6270ca",
   "metadata": {
    "slideshow": {
     "slide_type": "slide"
    }
   },
   "outputs": [
    {
     "data": {
      "image/png": "[encoded data removed]",
      "text/plain": [
       "<Figure size 600x600 with 1 Axes>"
      ]
     },
     "metadata": {},
     "output_type": "display_data"
    }
   ],
   "source": [
    "# CoPilot Generated Visualizer\n",
    "\n",
    "# Prepare grid for visualization\n",
    "map_grid = np.array(m.data).reshape((m.height, m.width))\n",
    "frontier_grid = np.zeros_like(map_grid)\n",
    "free_grid = np.zeros_like(map_grid)\n",
    "for idx, val in enumerate(m.data):\n",
    "    r, c = index_to_grid(idx, m.width)\n",
    "    if val == 0 and idx not in frontiers:\n",
    "        free_grid[r, c] = 1\n",
    "for idx in frontiers:\n",
    "    r, c = index_to_grid(idx, m.width)\n",
    "    frontier_grid[r, c] = 1\n",
    "\n",
    "# Plot\n",
    "plt.figure(figsize=(6,6))\n",
    "img1 = plt.imshow(map_grid, cmap='gray', vmin=-1, vmax=100)\n",
    "img2 = plt.imshow(np.ma.masked_where(frontier_grid == 0, frontier_grid), cmap='autumn', alpha=1.0)\n",
    "img3 = plt.imshow(np.ma.masked_where(free_grid == 0, free_grid), cmap='Greens', alpha=0.7)\n",
    "plt.title('Frontier Detection Visualization')\n",
    "\n",
    "# Create custom legend\n",
    "unknown_patch = mpatches.Patch(color='black', label='Unknown (-1)')\n",
    "free_patch = mpatches.Patch(color='gray', label='Free (0), not frontier')\n",
    "occupied_patch = mpatches.Patch(color='white', label='Occupied (100)')\n",
    "frontier_patch = mpatches.Patch(color='orange', label='Frontier')\n",
    "plt.legend(handles=[unknown_patch, free_patch, occupied_patch, frontier_patch], loc='upper right', bbox_to_anchor=(1.35, 1))\n",
    "plt.show()"
   ]
  }
 ],
 "metadata": {
  "kernelspec": {
   "display_name": ".venv",
   "language": "python",
   "name": "python3"
  },
  "language_info": {
   "codemirror_mode": {
    "name": "ipython",
    "version": 3
   },
   "file_extension": ".py",
   "mimetype": "text/x-python",
   "name": "python",
   "nbconvert_exporter": "python",
   "pygments_lexer": "ipython3",
   "version": "3.12.3"
  }
 },
 "nbformat": 4,
 "nbformat_minor": 5
}
