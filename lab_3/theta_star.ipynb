{
 "cells": [
  {
   "cell_type": "markdown",
   "id": "6a7d3d99",
   "metadata": {},
   "source": [
    "# Path Optimization: Theta*\n",
    "\n",
    "For this particular way to optimize a path, instead of looking for co-linear points, the algorithm is based on how you could have two non-consecutive points that create a clear, obstacle free line of sight. \n",
    "\n",
    "Inputs: OccupancyGrid, Path"
   ]
  },
  {
   "cell_type": "code",
   "execution_count": null,
   "id": "91f63006",
   "metadata": {
    "tags": [
     "parameters"
    ]
   },
   "outputs": [],
   "source": [
    "mapdata = []\n"
   ]
  }
 ],
 "metadata": {
  "kernelspec": {
   "display_name": "Python 3",
   "language": "python",
   "name": "python3"
  },
  "language_info": {
   "name": "python",
   "version": "3.11.5"
  }
 },
 "nbformat": 4,
 "nbformat_minor": 5
}
